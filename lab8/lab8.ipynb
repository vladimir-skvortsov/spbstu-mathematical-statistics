{
 "cells": [
  {
   "cell_type": "code",
   "execution_count": 2,
   "metadata": {},
   "outputs": [],
   "source": [
    "import numpy as np\n",
    "import pandas as pd\n",
    "import matplotlib.pyplot as plt\n",
    "import seaborn as sns\n",
    "import scipy"
   ]
  },
  {
   "cell_type": "code",
   "execution_count": 3,
   "metadata": {},
   "outputs": [],
   "source": [
    "sample = np.random.normal(0, 1, 100)"
   ]
  },
  {
   "cell_type": "code",
   "execution_count": 4,
   "metadata": {},
   "outputs": [],
   "source": [
    "subsample_20 = sample[:20]\n",
    "subsample_40 = sample[20:60]\n",
    "subsample_100 = sample"
   ]
  },
  {
   "cell_type": "code",
   "execution_count": 5,
   "metadata": {},
   "outputs": [],
   "source": [
    "def get_unbiased_estimation(x):\n",
    "  return np.sum((x - np.mean(x)) ** 2) / (len(x) - 1)\n",
    "\n",
    "def fisher_test(x, y):\n",
    "  s_x = get_unbiased_estimation(x)\n",
    "  s_y = get_unbiased_estimation(y)\n",
    "\n",
    "  f = s_x / s_y\n",
    "\n",
    "  \n",
    "\n",
    "  # var_sample1 = np.var(sample1, ddof=1)\n",
    "  # var_sample2 = np.var(sample2, ddof=1)\n",
    "\n",
    "  # f_statistic = var_sample1 / var_sample2\n",
    "\n",
    "  # df1 = len(sample1) - 1\n",
    "  # df2 = len(sample2) - 1\n",
    "\n",
    "  # p_value = scipy.stats.f.cdf(f_statistic, df1, df2)\n",
    "\n",
    "  # return f_statistic, p_value"
   ]
  },
  {
   "cell_type": "code",
   "execution_count": 6,
   "metadata": {},
   "outputs": [
    {
     "data": {
      "text/plain": [
       "(1.0776348558668725, 0.5924155298117368)"
      ]
     },
     "execution_count": 6,
     "metadata": {},
     "output_type": "execute_result"
    }
   ],
   "source": [
    "fisher_f_test(subsample_20, subsample_40)"
   ]
  },
  {
   "cell_type": "code",
   "execution_count": 7,
   "metadata": {},
   "outputs": [
    {
     "data": {
      "text/plain": [
       "(1.0388269786496733, 0.5744538503885893)"
      ]
     },
     "execution_count": 7,
     "metadata": {},
     "output_type": "execute_result"
    }
   ],
   "source": [
    "fisher_f_test(subsample_20, subsample_100)"
   ]
  },
  {
   "cell_type": "code",
   "execution_count": 8,
   "metadata": {},
   "outputs": [
    {
     "data": {
      "text/plain": [
       "0.25"
      ]
     },
     "execution_count": 8,
     "metadata": {},
     "output_type": "execute_result"
    }
   ],
   "source": [
    "1/ 4"
   ]
  },
  {
   "cell_type": "code",
   "execution_count": null,
   "metadata": {},
   "outputs": [],
   "source": []
  }
 ],
 "metadata": {
  "kernelspec": {
   "display_name": "base",
   "language": "python",
   "name": "python3"
  },
  "language_info": {
   "codemirror_mode": {
    "name": "ipython",
    "version": 3
   },
   "file_extension": ".py",
   "mimetype": "text/x-python",
   "name": "python",
   "nbconvert_exporter": "python",
   "pygments_lexer": "ipython3",
   "version": "3.10.13"
  }
 },
 "nbformat": 4,
 "nbformat_minor": 2
}
