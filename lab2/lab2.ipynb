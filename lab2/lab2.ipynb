{
 "cells": [
  {
   "cell_type": "code",
   "execution_count": 27,
   "metadata": {},
   "outputs": [],
   "source": [
    "import numpy as np\n",
    "import pandas as pd\n",
    "import math"
   ]
  },
  {
   "cell_type": "code",
   "execution_count": 28,
   "metadata": {},
   "outputs": [],
   "source": [
    "def normal_distribution(n):\n",
    "  return np.random.normal(0, 1, n)\n",
    "\n",
    "def cauchy_distribution(n):\n",
    "  return np.random.standard_cauchy(n)\n",
    "\n",
    "def student_distribution(n):\n",
    "  return np.random.standard_t(3, n)\n",
    "\n",
    "def poisson_distribution(n):\n",
    "  return np.random.poisson(10, n)\n",
    "\n",
    "def uniform_distribution(n):\n",
    "  return np.random.uniform(-math.sqrt(3), math.sqrt(3), n)\n",
    "\n",
    "distributions = [\n",
    "  ('normal', normal_distribution, -10, 10),\n",
    "  ('cauchy', cauchy_distribution, -10, 10),\n",
    "  ('student', student_distribution, -10, 10),\n",
    "  ('poisson', poisson_distribution, -50, 50),\n",
    "  ('uniform', uniform_distribution, -10, 10),\n",
    "]"
   ]
  },
  {
   "cell_type": "code",
   "execution_count": 29,
   "metadata": {},
   "outputs": [],
   "source": [
    "def mean(x):\n",
    "  return x.mean()\n",
    "\n",
    "def median(x):\n",
    "  return np.median(x)\n",
    "\n",
    "def half_sum_of_extremal_elements(x):\n",
    "  return (x.min() + x.max()) / 2\n",
    "\n",
    "def half_sum_of_quartiles(x):\n",
    "  return (np.quantile(x, 0.25) + np.quantile(x, 0.75)) / 2\n",
    "\n",
    "def trimmed_mean(x):\n",
    "  r = round(len(x) / 4)\n",
    "  trimmed_x = x[r:-r]\n",
    "  return trimmed_x.mean()\n",
    "\n",
    "metrics = [\n",
    "  ('mean', mean),\n",
    "  ('median', median),\n",
    "  ('half_sum_of_extremal_elements', half_sum_of_extremal_elements),\n",
    "  ('half_sum_of_quartiles', half_sum_of_quartiles),\n",
    "  ('trimmed_mean', trimmed_mean),\n",
    "]"
   ]
  },
  {
   "cell_type": "code",
   "execution_count": 30,
   "metadata": {},
   "outputs": [],
   "source": [
    "def E(z):\n",
    "  return z.mean()\n",
    "\n",
    "def D(z):\n",
    "  return (z ** 2).mean() - z.mean() ** 2"
   ]
  },
  {
   "cell_type": "code",
   "execution_count": 31,
   "metadata": {},
   "outputs": [],
   "source": [
    "ns = np.array([10, 100, 1000])"
   ]
  },
  {
   "cell_type": "code",
   "execution_count": 32,
   "metadata": {},
   "outputs": [
    {
     "name": "stderr",
     "output_type": "stream",
     "text": [
      "/var/folders/g0/db_6133s4c72c83lmc3808m40000gn/T/ipykernel_60831/3110306861.py:27: FutureWarning: The behavior of DataFrame concatenation with empty or all-NA entries is deprecated. In a future version, this will no longer exclude empty or all-NA columns when determining the result dtypes. To retain the old behavior, exclude the relevant entries before the concat operation.\n",
      "  result_df = pd.concat([result_df, pd.DataFrame(data_row)])\n",
      "/var/folders/g0/db_6133s4c72c83lmc3808m40000gn/T/ipykernel_60831/3110306861.py:27: FutureWarning: The behavior of DataFrame concatenation with empty or all-NA entries is deprecated. In a future version, this will no longer exclude empty or all-NA columns when determining the result dtypes. To retain the old behavior, exclude the relevant entries before the concat operation.\n",
      "  result_df = pd.concat([result_df, pd.DataFrame(data_row)])\n",
      "/var/folders/g0/db_6133s4c72c83lmc3808m40000gn/T/ipykernel_60831/3110306861.py:27: FutureWarning: The behavior of DataFrame concatenation with empty or all-NA entries is deprecated. In a future version, this will no longer exclude empty or all-NA columns when determining the result dtypes. To retain the old behavior, exclude the relevant entries before the concat operation.\n",
      "  result_df = pd.concat([result_df, pd.DataFrame(data_row)])\n",
      "/var/folders/g0/db_6133s4c72c83lmc3808m40000gn/T/ipykernel_60831/3110306861.py:27: FutureWarning: The behavior of DataFrame concatenation with empty or all-NA entries is deprecated. In a future version, this will no longer exclude empty or all-NA columns when determining the result dtypes. To retain the old behavior, exclude the relevant entries before the concat operation.\n",
      "  result_df = pd.concat([result_df, pd.DataFrame(data_row)])\n",
      "/var/folders/g0/db_6133s4c72c83lmc3808m40000gn/T/ipykernel_60831/3110306861.py:27: FutureWarning: The behavior of DataFrame concatenation with empty or all-NA entries is deprecated. In a future version, this will no longer exclude empty or all-NA columns when determining the result dtypes. To retain the old behavior, exclude the relevant entries before the concat operation.\n",
      "  result_df = pd.concat([result_df, pd.DataFrame(data_row)])\n"
     ]
    }
   ],
   "source": [
    "\n",
    "for distribution_name, distribution_f, min_value, max_value in distributions:\n",
    "  result_df = pd.DataFrame(columns=[\n",
    "    'n',\n",
    "    *list(map(lambda metric: f'E(z) {metric[0]}', metrics)),\n",
    "    *list(map(lambda metric: f'D(z) {metric[0]}', metrics)),\n",
    "  ])\n",
    "\n",
    "  for n in ns:\n",
    "    metric_values = {}\n",
    "\n",
    "    for i in range(1000):\n",
    "      x = distribution_f(n)\n",
    "      x = x[(x >= min_value) & (x <= max_value)]\n",
    "\n",
    "      for metric_name, metric_f in metrics:\n",
    "        if not metric_name in metric_values:\n",
    "          metric_values[metric_name] = np.array([])\n",
    "\n",
    "        metric_values[metric_name] = np.append(metric_values[metric_name], metric_f(x))\n",
    "\n",
    "    data_row = {'n': [n]}\n",
    "\n",
    "    for metric_name, values in metric_values.items():\n",
    "      data_row[f'E(z) {metric_name}'] = [E(values)]\n",
    "      data_row[f'D(z) {metric_name}'] = [D(values)]\n",
    "\n",
    "    result_df = pd.concat([result_df, pd.DataFrame(data_row)])\n",
    "\n",
    "  result_df.to_csv(f'results/{distribution_name}.csv', index=False)"
   ]
  },
  {
   "cell_type": "code",
   "execution_count": 33,
   "metadata": {},
   "outputs": [
    {
     "data": {
      "text/html": [
       "<div>\n",
       "<style scoped>\n",
       "    .dataframe tbody tr th:only-of-type {\n",
       "        vertical-align: middle;\n",
       "    }\n",
       "\n",
       "    .dataframe tbody tr th {\n",
       "        vertical-align: top;\n",
       "    }\n",
       "\n",
       "    .dataframe thead th {\n",
       "        text-align: right;\n",
       "    }\n",
       "</style>\n",
       "<table border=\"1\" class=\"dataframe\">\n",
       "  <thead>\n",
       "    <tr style=\"text-align: right;\">\n",
       "      <th></th>\n",
       "      <th>n</th>\n",
       "      <th>E(z) mean</th>\n",
       "      <th>E(z) median</th>\n",
       "      <th>E(z) half_sum_of_extremal_elements</th>\n",
       "      <th>E(z) half_sum_of_quartiles</th>\n",
       "      <th>E(z) trimmed_mean</th>\n",
       "      <th>D(z) mean</th>\n",
       "      <th>D(z) median</th>\n",
       "      <th>D(z) half_sum_of_extremal_elements</th>\n",
       "      <th>D(z) half_sum_of_quartiles</th>\n",
       "      <th>D(z) trimmed_mean</th>\n",
       "    </tr>\n",
       "  </thead>\n",
       "  <tbody>\n",
       "    <tr>\n",
       "      <th>0</th>\n",
       "      <td>10</td>\n",
       "      <td>-0.007983</td>\n",
       "      <td>-0.004386</td>\n",
       "      <td>-0.020997</td>\n",
       "      <td>-0.005517</td>\n",
       "      <td>-0.006625</td>\n",
       "      <td>0.098372</td>\n",
       "      <td>0.143343</td>\n",
       "      <td>0.163284</td>\n",
       "      <td>0.113911</td>\n",
       "      <td>0.163168</td>\n",
       "    </tr>\n",
       "    <tr>\n",
       "      <th>1</th>\n",
       "      <td>100</td>\n",
       "      <td>0.003888</td>\n",
       "      <td>0.006077</td>\n",
       "      <td>-0.000530</td>\n",
       "      <td>0.002100</td>\n",
       "      <td>0.005262</td>\n",
       "      <td>0.010964</td>\n",
       "      <td>0.016229</td>\n",
       "      <td>0.092033</td>\n",
       "      <td>0.013306</td>\n",
       "      <td>0.019508</td>\n",
       "    </tr>\n",
       "    <tr>\n",
       "      <th>2</th>\n",
       "      <td>1000</td>\n",
       "      <td>0.000841</td>\n",
       "      <td>0.001757</td>\n",
       "      <td>0.002664</td>\n",
       "      <td>0.000549</td>\n",
       "      <td>0.001120</td>\n",
       "      <td>0.001003</td>\n",
       "      <td>0.001594</td>\n",
       "      <td>0.056454</td>\n",
       "      <td>0.001218</td>\n",
       "      <td>0.002025</td>\n",
       "    </tr>\n",
       "  </tbody>\n",
       "</table>\n",
       "</div>"
      ],
      "text/plain": [
       "      n  E(z) mean  E(z) median  E(z) half_sum_of_extremal_elements  \\\n",
       "0    10  -0.007983    -0.004386                           -0.020997   \n",
       "1   100   0.003888     0.006077                           -0.000530   \n",
       "2  1000   0.000841     0.001757                            0.002664   \n",
       "\n",
       "   E(z) half_sum_of_quartiles  E(z) trimmed_mean  D(z) mean  D(z) median  \\\n",
       "0                   -0.005517          -0.006625   0.098372     0.143343   \n",
       "1                    0.002100           0.005262   0.010964     0.016229   \n",
       "2                    0.000549           0.001120   0.001003     0.001594   \n",
       "\n",
       "   D(z) half_sum_of_extremal_elements  D(z) half_sum_of_quartiles  \\\n",
       "0                            0.163284                    0.113911   \n",
       "1                            0.092033                    0.013306   \n",
       "2                            0.056454                    0.001218   \n",
       "\n",
       "   D(z) trimmed_mean  \n",
       "0           0.163168  \n",
       "1           0.019508  \n",
       "2           0.002025  "
      ]
     },
     "execution_count": 33,
     "metadata": {},
     "output_type": "execute_result"
    }
   ],
   "source": [
    "pd.read_csv(f'results/normal.csv')"
   ]
  },
  {
   "cell_type": "code",
   "execution_count": null,
   "metadata": {},
   "outputs": [],
   "source": []
  }
 ],
 "metadata": {
  "kernelspec": {
   "display_name": "base",
   "language": "python",
   "name": "python3"
  },
  "language_info": {
   "codemirror_mode": {
    "name": "ipython",
    "version": 3
   },
   "file_extension": ".py",
   "mimetype": "text/x-python",
   "name": "python",
   "nbconvert_exporter": "python",
   "pygments_lexer": "ipython3",
   "version": "3.10.13"
  }
 },
 "nbformat": 4,
 "nbformat_minor": 2
}
