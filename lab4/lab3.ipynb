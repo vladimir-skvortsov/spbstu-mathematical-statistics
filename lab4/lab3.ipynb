{
 "cells": [
  {
   "cell_type": "code",
   "execution_count": 45,
   "metadata": {},
   "outputs": [],
   "source": [
    "import numpy as np\n",
    "import pandas as pd\n",
    "import math\n",
    "import scipy"
   ]
  },
  {
   "cell_type": "code",
   "execution_count": 46,
   "metadata": {},
   "outputs": [],
   "source": [
    "def normal_distribution(n):\n",
    "  return np.random.normal(0, 1, n)\n",
    "\n",
    "def exponential_distribution(n):\n",
    "  return np.random.exponential(1, n)\n",
    "\n",
    "distributions = [\n",
    "  ('normal', normal_distribution),\n",
    "  ('exponential', exponential_distribution),\n",
    "]"
   ]
  },
  {
   "cell_type": "code",
   "execution_count": 47,
   "metadata": {},
   "outputs": [],
   "source": [
    "ns = np.array([20, 100])"
   ]
  },
  {
   "cell_type": "code",
   "execution_count": 48,
   "metadata": {},
   "outputs": [],
   "source": [
    "significance = 0.05\n",
    "confidence_level = 1 - significance / 2 # 0.975\n",
    "\n",
    "for distribution_name, distribution_f in distributions:\n",
    "  data = {\n",
    "    'n': [],\n",
    "    'mean_min': [],\n",
    "    'mean_max': [],\n",
    "    'dev_min': [],\n",
    "    'dev_max': [],\n",
    "  }\n",
    "\n",
    "  for n in ns:\n",
    "    sample = distribution_f(n)\n",
    "    mean = sample.mean()\n",
    "    dev = np.std(sample)\n",
    "    student_value = scipy.stats.t.ppf(confidence_level, n)\n",
    "    chi_square_value_min = scipy.stats.chi2.ppf(1 - significance / 2, n)\n",
    "    chi_square_value_max = scipy.stats.chi2.ppf(significance / 2, n)\n",
    "\n",
    "    mean_min = mean - dev * student_value / math.sqrt(n)\n",
    "    mean_max = mean + dev * student_value / math.sqrt(n)\n",
    "\n",
    "    dev_min = math.sqrt(n) * dev / math.sqrt(chi_square_value_min)\n",
    "    dev_max = math.sqrt(n) * dev / math.sqrt(chi_square_value_max)\n",
    "\n",
    "    data['n'].append(n)\n",
    "    data['mean_min'].append(mean_min)\n",
    "    data['mean_max'].append(mean_max)\n",
    "    data['dev_min'].append(dev_min)\n",
    "    data['dev_max'].append(dev_max)\n",
    "\n",
    "  result_df = pd.DataFrame(data)\n",
    "  result_df.to_csv(f'results/{distribution_name}.csv', index=False)"
   ]
  }
 ],
 "metadata": {
  "kernelspec": {
   "display_name": "base",
   "language": "python",
   "name": "python3"
  },
  "language_info": {
   "codemirror_mode": {
    "name": "ipython",
    "version": 3
   },
   "file_extension": ".py",
   "mimetype": "text/x-python",
   "name": "python",
   "nbconvert_exporter": "python",
   "pygments_lexer": "ipython3",
   "version": "3.10.13"
  }
 },
 "nbformat": 4,
 "nbformat_minor": 2
}
