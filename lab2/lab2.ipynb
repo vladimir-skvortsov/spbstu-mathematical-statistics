{
 "cells": [
  {
   "cell_type": "code",
   "execution_count": 8,
   "metadata": {},
   "outputs": [],
   "source": [
    "import numpy as np\n",
    "import pandas as pd\n",
    "import math"
   ]
  },
  {
   "cell_type": "code",
   "execution_count": 9,
   "metadata": {},
   "outputs": [],
   "source": [
    "def normal_distribution(n):\n",
    "  return np.random.normal(0, 1, n)\n",
    "\n",
    "def cauchy_distribution(n):\n",
    "  return np.random.standard_cauchy(n)\n",
    "\n",
    "def student_distribution(n):\n",
    "  return np.random.standard_t(3, n)\n",
    "\n",
    "def poisson_distribution(n):\n",
    "  return np.random.poisson(10, n)\n",
    "\n",
    "def uniform_distribution(n):\n",
    "  return np.random.uniform(-math.sqrt(3), math.sqrt(3), n)\n",
    "\n",
    "distributions = [\n",
    "  ('normal', normal_distribution),\n",
    "  ('cauchy', cauchy_distribution),\n",
    "  ('student', student_distribution),\n",
    "  ('poisson', poisson_distribution),\n",
    "  ('uniform', uniform_distribution),\n",
    "]"
   ]
  },
  {
   "cell_type": "code",
   "execution_count": 10,
   "metadata": {},
   "outputs": [],
   "source": [
    "def mean(x):\n",
    "  return x.mean()\n",
    "\n",
    "def median(x):\n",
    "  return np.median(x)\n",
    "\n",
    "def half_sum_of_extremal_elements(x):\n",
    "  return (x.min() + x.max()) / 2\n",
    "\n",
    "def half_sum_of_quartiles(x):\n",
    "  return (np.quantile(x, 0.25) + np.quantile(x, 0.75)) / 2\n",
    "\n",
    "def trimmed_mean(x):\n",
    "  r = round(len(x) / 4)\n",
    "  trimmed_x = x[r:-r]\n",
    "  return trimmed_x.mean()\n",
    "\n",
    "metrics = [\n",
    "  ('mean', mean),\n",
    "  ('median', median),\n",
    "  ('half_sum_of_extremal_elements', half_sum_of_extremal_elements),\n",
    "  ('half_sum_of_quartiles', half_sum_of_quartiles),\n",
    "  ('trimmed_mean', trimmed_mean),\n",
    "]"
   ]
  },
  {
   "cell_type": "code",
   "execution_count": 11,
   "metadata": {},
   "outputs": [],
   "source": [
    "def E(z):\n",
    "  return z.mean()\n",
    "\n",
    "def D(z):\n",
    "  return np.var(z)"
   ]
  },
  {
   "cell_type": "code",
   "execution_count": 12,
   "metadata": {},
   "outputs": [],
   "source": [
    "ns = np.array([10, 100, 1000])"
   ]
  },
  {
   "cell_type": "code",
   "execution_count": 13,
   "metadata": {},
   "outputs": [
    {
     "name": "stderr",
     "output_type": "stream",
     "text": [
      "/var/folders/g0/db_6133s4c72c83lmc3808m40000gn/T/ipykernel_18593/880339341.py:26: FutureWarning: The behavior of DataFrame concatenation with empty or all-NA entries is deprecated. In a future version, this will no longer exclude empty or all-NA columns when determining the result dtypes. To retain the old behavior, exclude the relevant entries before the concat operation.\n",
      "  result_df = pd.concat([result_df, pd.DataFrame(data_row)])\n",
      "/var/folders/g0/db_6133s4c72c83lmc3808m40000gn/T/ipykernel_18593/880339341.py:26: FutureWarning: The behavior of DataFrame concatenation with empty or all-NA entries is deprecated. In a future version, this will no longer exclude empty or all-NA columns when determining the result dtypes. To retain the old behavior, exclude the relevant entries before the concat operation.\n",
      "  result_df = pd.concat([result_df, pd.DataFrame(data_row)])\n",
      "/var/folders/g0/db_6133s4c72c83lmc3808m40000gn/T/ipykernel_18593/880339341.py:26: FutureWarning: The behavior of DataFrame concatenation with empty or all-NA entries is deprecated. In a future version, this will no longer exclude empty or all-NA columns when determining the result dtypes. To retain the old behavior, exclude the relevant entries before the concat operation.\n",
      "  result_df = pd.concat([result_df, pd.DataFrame(data_row)])\n",
      "/var/folders/g0/db_6133s4c72c83lmc3808m40000gn/T/ipykernel_18593/880339341.py:26: FutureWarning: The behavior of DataFrame concatenation with empty or all-NA entries is deprecated. In a future version, this will no longer exclude empty or all-NA columns when determining the result dtypes. To retain the old behavior, exclude the relevant entries before the concat operation.\n",
      "  result_df = pd.concat([result_df, pd.DataFrame(data_row)])\n",
      "/var/folders/g0/db_6133s4c72c83lmc3808m40000gn/T/ipykernel_18593/880339341.py:26: FutureWarning: The behavior of DataFrame concatenation with empty or all-NA entries is deprecated. In a future version, this will no longer exclude empty or all-NA columns when determining the result dtypes. To retain the old behavior, exclude the relevant entries before the concat operation.\n",
      "  result_df = pd.concat([result_df, pd.DataFrame(data_row)])\n"
     ]
    }
   ],
   "source": [
    "\n",
    "for distribution_name, distribution_f in distributions:\n",
    "  result_df = pd.DataFrame(columns=[\n",
    "    'n',\n",
    "    *list(map(lambda metric: f'E(z) {metric[0]}', metrics)),\n",
    "    *list(map(lambda metric: f'D(z) {metric[0]}', metrics)),\n",
    "  ])\n",
    "\n",
    "  for n in ns:\n",
    "    metric_values = {}\n",
    "\n",
    "    for i in range(1000):\n",
    "      x = distribution_f(n)\n",
    "\n",
    "      for metric_name, metric_f in metrics:\n",
    "        if not metric_name in metric_values:\n",
    "          metric_values[metric_name] = np.array([])\n",
    "\n",
    "        metric_values[metric_name] = np.append(metric_values[metric_name], metric_f(x))\n",
    "\n",
    "    data_row = {'n': [n]}\n",
    "\n",
    "    for metric_name, values in metric_values.items():\n",
    "      data_row[f'E(z) {metric_name}'] = [E(values)]\n",
    "      data_row[f'D(z) {metric_name}'] = [D(values)]\n",
    "\n",
    "    result_df = pd.concat([result_df, pd.DataFrame(data_row)])\n",
    "\n",
    "  result_df.to_csv(f'results/{distribution_name}.csv', index=False)"
   ]
  },
  {
   "cell_type": "code",
   "execution_count": null,
   "metadata": {},
   "outputs": [],
   "source": []
  }
 ],
 "metadata": {
  "kernelspec": {
   "display_name": "base",
   "language": "python",
   "name": "python3"
  },
  "language_info": {
   "codemirror_mode": {
    "name": "ipython",
    "version": 3
   },
   "file_extension": ".py",
   "mimetype": "text/x-python",
   "name": "python",
   "nbconvert_exporter": "python",
   "pygments_lexer": "ipython3",
   "version": "3.10.13"
  }
 },
 "nbformat": 4,
 "nbformat_minor": 2
}
