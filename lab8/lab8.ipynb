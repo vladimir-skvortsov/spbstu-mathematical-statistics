{
 "cells": [
  {
   "cell_type": "code",
   "execution_count": 25,
   "metadata": {},
   "outputs": [],
   "source": [
    "import numpy as np\n",
    "import pandas as pd\n",
    "import matplotlib.pyplot as plt\n",
    "import seaborn as sns\n",
    "import scipy"
   ]
  },
  {
   "cell_type": "code",
   "execution_count": 26,
   "metadata": {},
   "outputs": [],
   "source": [
    "sample = np.random.normal(0, 1, 100)"
   ]
  },
  {
   "cell_type": "code",
   "execution_count": 27,
   "metadata": {},
   "outputs": [],
   "source": [
    "subsample_20 = sample[:20]\n",
    "subsample_40 = sample[20:60]\n",
    "subsample_100 = sample"
   ]
  },
  {
   "cell_type": "code",
   "execution_count": 28,
   "metadata": {},
   "outputs": [],
   "source": [
    "def fisher_test(x, y):\n",
    "  var_x = np.var(x, ddof=1)\n",
    "  var_y = np.var(y, ddof=1)\n",
    "\n",
    "  f_statistic = var_x / var_y\n",
    "\n",
    "  df_x = len(x) - 1\n",
    "  df_y = len(y) - 1\n",
    "\n",
    "  p_value = scipy.stats.f.cdf(f_statistic, df_x, df_y)\n",
    "\n",
    "  # return f_statistic, p_value"
   ]
  },
  {
   "cell_type": "code",
   "execution_count": 29,
   "metadata": {},
   "outputs": [],
   "source": [
    "fisher_test(subsample_20, subsample_40)"
   ]
  },
  {
   "cell_type": "code",
   "execution_count": 30,
   "metadata": {},
   "outputs": [],
   "source": [
    "fisher_test(subsample_20, subsample_100)"
   ]
  }
 ],
 "metadata": {
  "kernelspec": {
   "display_name": "base",
   "language": "python",
   "name": "python3"
  },
  "language_info": {
   "codemirror_mode": {
    "name": "ipython",
    "version": 3
   },
   "file_extension": ".py",
   "mimetype": "text/x-python",
   "name": "python",
   "nbconvert_exporter": "python",
   "pygments_lexer": "ipython3",
   "version": "3.10.13"
  }
 },
 "nbformat": 4,
 "nbformat_minor": 2
}
